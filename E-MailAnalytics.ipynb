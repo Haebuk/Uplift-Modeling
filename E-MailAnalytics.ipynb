{
 "cells": [
  {
   "cell_type": "markdown",
   "metadata": {},
   "source": [
    "# Kevin Hillstrom MineThatData\n",
    "## Email Analytics\n",
    "코드 참조:\n",
    "\n",
    "[머신러닝 실무 프로젝트 깃허브](https://github.com/flourscent/ml-at-work/blob/master/chap09/Kevin_Hillstrom_MineThatData_E-MailAnalytics.ipynb)\n",
    "\n",
    "[코드 추가 설명](https://partrita.github.io/posts/python-uplift/)\n",
    "\n",
    "- 과거 12개월 구매 이력이 있는 고객 대상\n",
    "- '남성 타겟 판촉 메일', '여성 타겟 판촉 메일', '메일 발송X' 수행\n",
    "- 우선적으로 방문 여부 조사(구매 전환 X)\n"
   ]
  },
  {
   "cell_type": "markdown",
   "metadata": {},
   "source": [
    "### Data Load"
   ]
  },
  {
   "cell_type": "code",
   "execution_count": 2,
   "metadata": {},
   "outputs": [],
   "source": [
    "import urllib.request\n",
    "csv_url = \"http://www.minethatdata.com/Kevin_Hillstrom_MineThatData_E-MailAnalytics_DataMiningChallenge_2008.03.20.csv\"\n",
    "csv_filename = \"source_data.csv\"\n",
    "with open(csv_filename, 'w') as f:\n",
    "    data = urllib.request.urlopen(csv_url).read()\n",
    "    f.write(data.decode('ascii'))"
   ]
  },
  {
   "cell_type": "code",
   "execution_count": 3,
   "metadata": {},
   "outputs": [
    {
     "data": {
      "text/html": [
       "<div>\n",
       "<style scoped>\n",
       "    .dataframe tbody tr th:only-of-type {\n",
       "        vertical-align: middle;\n",
       "    }\n",
       "\n",
       "    .dataframe tbody tr th {\n",
       "        vertical-align: top;\n",
       "    }\n",
       "\n",
       "    .dataframe thead th {\n",
       "        text-align: right;\n",
       "    }\n",
       "</style>\n",
       "<table border=\"1\" class=\"dataframe\">\n",
       "  <thead>\n",
       "    <tr style=\"text-align: right;\">\n",
       "      <th></th>\n",
       "      <th>recency</th>\n",
       "      <th>history_segment</th>\n",
       "      <th>history</th>\n",
       "      <th>mens</th>\n",
       "      <th>womens</th>\n",
       "      <th>zip_code</th>\n",
       "      <th>newbie</th>\n",
       "      <th>channel</th>\n",
       "      <th>segment</th>\n",
       "      <th>visit</th>\n",
       "      <th>conversion</th>\n",
       "      <th>spend</th>\n",
       "    </tr>\n",
       "  </thead>\n",
       "  <tbody>\n",
       "    <tr>\n",
       "      <th>0</th>\n",
       "      <td>10</td>\n",
       "      <td>2) $100 - $200</td>\n",
       "      <td>142.44</td>\n",
       "      <td>1</td>\n",
       "      <td>0</td>\n",
       "      <td>Surburban</td>\n",
       "      <td>0</td>\n",
       "      <td>Phone</td>\n",
       "      <td>Womens E-Mail</td>\n",
       "      <td>0</td>\n",
       "      <td>0</td>\n",
       "      <td>0.0</td>\n",
       "    </tr>\n",
       "    <tr>\n",
       "      <th>1</th>\n",
       "      <td>6</td>\n",
       "      <td>3) $200 - $350</td>\n",
       "      <td>329.08</td>\n",
       "      <td>1</td>\n",
       "      <td>1</td>\n",
       "      <td>Rural</td>\n",
       "      <td>1</td>\n",
       "      <td>Web</td>\n",
       "      <td>No E-Mail</td>\n",
       "      <td>0</td>\n",
       "      <td>0</td>\n",
       "      <td>0.0</td>\n",
       "    </tr>\n",
       "    <tr>\n",
       "      <th>2</th>\n",
       "      <td>7</td>\n",
       "      <td>2) $100 - $200</td>\n",
       "      <td>180.65</td>\n",
       "      <td>0</td>\n",
       "      <td>1</td>\n",
       "      <td>Surburban</td>\n",
       "      <td>1</td>\n",
       "      <td>Web</td>\n",
       "      <td>Womens E-Mail</td>\n",
       "      <td>0</td>\n",
       "      <td>0</td>\n",
       "      <td>0.0</td>\n",
       "    </tr>\n",
       "    <tr>\n",
       "      <th>3</th>\n",
       "      <td>9</td>\n",
       "      <td>5) $500 - $750</td>\n",
       "      <td>675.83</td>\n",
       "      <td>1</td>\n",
       "      <td>0</td>\n",
       "      <td>Rural</td>\n",
       "      <td>1</td>\n",
       "      <td>Web</td>\n",
       "      <td>Mens E-Mail</td>\n",
       "      <td>0</td>\n",
       "      <td>0</td>\n",
       "      <td>0.0</td>\n",
       "    </tr>\n",
       "    <tr>\n",
       "      <th>4</th>\n",
       "      <td>2</td>\n",
       "      <td>1) $0 - $100</td>\n",
       "      <td>45.34</td>\n",
       "      <td>1</td>\n",
       "      <td>0</td>\n",
       "      <td>Urban</td>\n",
       "      <td>0</td>\n",
       "      <td>Web</td>\n",
       "      <td>Womens E-Mail</td>\n",
       "      <td>0</td>\n",
       "      <td>0</td>\n",
       "      <td>0.0</td>\n",
       "    </tr>\n",
       "  </tbody>\n",
       "</table>\n",
       "</div>"
      ],
      "text/plain": [
       "   recency history_segment  history  mens  womens   zip_code  newbie channel  \\\n",
       "0       10  2) $100 - $200   142.44     1       0  Surburban       0   Phone   \n",
       "1        6  3) $200 - $350   329.08     1       1      Rural       1     Web   \n",
       "2        7  2) $100 - $200   180.65     0       1  Surburban       1     Web   \n",
       "3        9  5) $500 - $750   675.83     1       0      Rural       1     Web   \n",
       "4        2    1) $0 - $100    45.34     1       0      Urban       0     Web   \n",
       "\n",
       "         segment  visit  conversion  spend  \n",
       "0  Womens E-Mail      0           0    0.0  \n",
       "1      No E-Mail      0           0    0.0  \n",
       "2  Womens E-Mail      0           0    0.0  \n",
       "3    Mens E-Mail      0           0    0.0  \n",
       "4  Womens E-Mail      0           0    0.0  "
      ]
     },
     "execution_count": 3,
     "metadata": {},
     "output_type": "execute_result"
    }
   ],
   "source": [
    "import pandas as pd \n",
    "source_df = pd.read_csv(csv_filename)\n",
    "source_df.head()"
   ]
  },
  {
   "cell_type": "markdown",
   "metadata": {},
   "source": [
    "![image](https://user-images.githubusercontent.com/68543150/141747317-a9bd7d59-61a4-4298-bd6d-c472947bebcf.png)\n"
   ]
  },
  {
   "cell_type": "markdown",
   "metadata": {},
   "source": [
    "### Preprocessing"
   ]
  },
  {
   "cell_type": "code",
   "execution_count": 4,
   "metadata": {},
   "outputs": [
    {
     "data": {
      "text/plain": [
       "array(['Womens E-Mail', 'No E-Mail', 'Mens E-Mail'], dtype=object)"
      ]
     },
     "execution_count": 4,
     "metadata": {},
     "output_type": "execute_result"
    }
   ],
   "source": [
    "source_df['segment'].unique()"
   ]
  },
  {
   "cell_type": "code",
   "execution_count": 5,
   "metadata": {},
   "outputs": [
    {
     "data": {
      "text/html": [
       "<div>\n",
       "<style scoped>\n",
       "    .dataframe tbody tr th:only-of-type {\n",
       "        vertical-align: middle;\n",
       "    }\n",
       "\n",
       "    .dataframe tbody tr th {\n",
       "        vertical-align: top;\n",
       "    }\n",
       "\n",
       "    .dataframe thead th {\n",
       "        text-align: right;\n",
       "    }\n",
       "</style>\n",
       "<table border=\"1\" class=\"dataframe\">\n",
       "  <thead>\n",
       "    <tr style=\"text-align: right;\">\n",
       "      <th></th>\n",
       "      <th>recency</th>\n",
       "      <th>history_segment</th>\n",
       "      <th>history</th>\n",
       "      <th>mens</th>\n",
       "      <th>womens</th>\n",
       "      <th>zip_code</th>\n",
       "      <th>newbie</th>\n",
       "      <th>channel</th>\n",
       "      <th>segment</th>\n",
       "      <th>visit</th>\n",
       "      <th>conversion</th>\n",
       "      <th>spend</th>\n",
       "    </tr>\n",
       "  </thead>\n",
       "  <tbody>\n",
       "    <tr>\n",
       "      <th>0</th>\n",
       "      <td>10</td>\n",
       "      <td>2) $100 - $200</td>\n",
       "      <td>142.44</td>\n",
       "      <td>1</td>\n",
       "      <td>0</td>\n",
       "      <td>Surburban</td>\n",
       "      <td>0</td>\n",
       "      <td>Phone</td>\n",
       "      <td>Womens E-Mail</td>\n",
       "      <td>0</td>\n",
       "      <td>0</td>\n",
       "      <td>0.0</td>\n",
       "    </tr>\n",
       "    <tr>\n",
       "      <th>1</th>\n",
       "      <td>7</td>\n",
       "      <td>2) $100 - $200</td>\n",
       "      <td>180.65</td>\n",
       "      <td>0</td>\n",
       "      <td>1</td>\n",
       "      <td>Surburban</td>\n",
       "      <td>1</td>\n",
       "      <td>Web</td>\n",
       "      <td>Womens E-Mail</td>\n",
       "      <td>0</td>\n",
       "      <td>0</td>\n",
       "      <td>0.0</td>\n",
       "    </tr>\n",
       "    <tr>\n",
       "      <th>2</th>\n",
       "      <td>9</td>\n",
       "      <td>5) $500 - $750</td>\n",
       "      <td>675.83</td>\n",
       "      <td>1</td>\n",
       "      <td>0</td>\n",
       "      <td>Rural</td>\n",
       "      <td>1</td>\n",
       "      <td>Web</td>\n",
       "      <td>Mens E-Mail</td>\n",
       "      <td>0</td>\n",
       "      <td>0</td>\n",
       "      <td>0.0</td>\n",
       "    </tr>\n",
       "    <tr>\n",
       "      <th>3</th>\n",
       "      <td>2</td>\n",
       "      <td>1) $0 - $100</td>\n",
       "      <td>45.34</td>\n",
       "      <td>1</td>\n",
       "      <td>0</td>\n",
       "      <td>Urban</td>\n",
       "      <td>0</td>\n",
       "      <td>Web</td>\n",
       "      <td>Womens E-Mail</td>\n",
       "      <td>0</td>\n",
       "      <td>0</td>\n",
       "      <td>0.0</td>\n",
       "    </tr>\n",
       "    <tr>\n",
       "      <th>4</th>\n",
       "      <td>6</td>\n",
       "      <td>2) $100 - $200</td>\n",
       "      <td>134.83</td>\n",
       "      <td>0</td>\n",
       "      <td>1</td>\n",
       "      <td>Surburban</td>\n",
       "      <td>0</td>\n",
       "      <td>Phone</td>\n",
       "      <td>Womens E-Mail</td>\n",
       "      <td>1</td>\n",
       "      <td>0</td>\n",
       "      <td>0.0</td>\n",
       "    </tr>\n",
       "  </tbody>\n",
       "</table>\n",
       "</div>"
      ],
      "text/plain": [
       "   recency history_segment  history  mens  womens   zip_code  newbie channel  \\\n",
       "0       10  2) $100 - $200   142.44     1       0  Surburban       0   Phone   \n",
       "1        7  2) $100 - $200   180.65     0       1  Surburban       1     Web   \n",
       "2        9  5) $500 - $750   675.83     1       0      Rural       1     Web   \n",
       "3        2    1) $0 - $100    45.34     1       0      Urban       0     Web   \n",
       "4        6  2) $100 - $200   134.83     0       1  Surburban       0   Phone   \n",
       "\n",
       "         segment  visit  conversion  spend  \n",
       "0  Womens E-Mail      0           0    0.0  \n",
       "1  Womens E-Mail      0           0    0.0  \n",
       "2    Mens E-Mail      0           0    0.0  \n",
       "3  Womens E-Mail      0           0    0.0  \n",
       "4  Womens E-Mail      1           0    0.0  "
      ]
     },
     "execution_count": 5,
     "metadata": {},
     "output_type": "execute_result"
    }
   ],
   "source": [
    "# 메일을 받지 않은 고객 데이터 삭제\n",
    "mailed_df = source_df.loc[source_df['segment'] != 'No E-Mail'].reset_index(drop=True)\n",
    "mailed_df.head()"
   ]
  },
  {
   "cell_type": "code",
   "execution_count": 6,
   "metadata": {},
   "outputs": [
    {
     "name": "stdout",
     "output_type": "stream",
     "text": [
      "(42694, 12)\n",
      "(64000, 12)\n"
     ]
    }
   ],
   "source": [
    "print(mailed_df.shape)\n",
    "print(source_df.shape)"
   ]
  },
  {
   "cell_type": "code",
   "execution_count": 7,
   "metadata": {},
   "outputs": [
    {
     "data": {
      "text/plain": [
       "recency              int64\n",
       "history_segment     object\n",
       "history            float64\n",
       "mens                 int64\n",
       "womens               int64\n",
       "zip_code            object\n",
       "newbie               int64\n",
       "channel             object\n",
       "segment             object\n",
       "visit                int64\n",
       "conversion           int64\n",
       "spend              float64\n",
       "dtype: object"
      ]
     },
     "execution_count": 7,
     "metadata": {},
     "output_type": "execute_result"
    }
   ],
   "source": [
    "mailed_df.dtypes"
   ]
  },
  {
   "cell_type": "code",
   "execution_count": 8,
   "metadata": {},
   "outputs": [
    {
     "data": {
      "text/html": [
       "<div>\n",
       "<style scoped>\n",
       "    .dataframe tbody tr th:only-of-type {\n",
       "        vertical-align: middle;\n",
       "    }\n",
       "\n",
       "    .dataframe tbody tr th {\n",
       "        vertical-align: top;\n",
       "    }\n",
       "\n",
       "    .dataframe thead th {\n",
       "        text-align: right;\n",
       "    }\n",
       "</style>\n",
       "<table border=\"1\" class=\"dataframe\">\n",
       "  <thead>\n",
       "    <tr style=\"text-align: right;\">\n",
       "      <th></th>\n",
       "      <th>recency</th>\n",
       "      <th>history</th>\n",
       "      <th>mens</th>\n",
       "      <th>womens</th>\n",
       "      <th>newbie</th>\n",
       "      <th>zip_code_Surburban</th>\n",
       "      <th>zip_code_Urban</th>\n",
       "      <th>channel_Phone</th>\n",
       "      <th>channel_Web</th>\n",
       "    </tr>\n",
       "  </thead>\n",
       "  <tbody>\n",
       "    <tr>\n",
       "      <th>0</th>\n",
       "      <td>10</td>\n",
       "      <td>142.44</td>\n",
       "      <td>1</td>\n",
       "      <td>0</td>\n",
       "      <td>0</td>\n",
       "      <td>1</td>\n",
       "      <td>0</td>\n",
       "      <td>1</td>\n",
       "      <td>0</td>\n",
       "    </tr>\n",
       "    <tr>\n",
       "      <th>1</th>\n",
       "      <td>7</td>\n",
       "      <td>180.65</td>\n",
       "      <td>0</td>\n",
       "      <td>1</td>\n",
       "      <td>1</td>\n",
       "      <td>1</td>\n",
       "      <td>0</td>\n",
       "      <td>0</td>\n",
       "      <td>1</td>\n",
       "    </tr>\n",
       "    <tr>\n",
       "      <th>2</th>\n",
       "      <td>9</td>\n",
       "      <td>675.83</td>\n",
       "      <td>1</td>\n",
       "      <td>0</td>\n",
       "      <td>1</td>\n",
       "      <td>0</td>\n",
       "      <td>0</td>\n",
       "      <td>0</td>\n",
       "      <td>1</td>\n",
       "    </tr>\n",
       "    <tr>\n",
       "      <th>3</th>\n",
       "      <td>2</td>\n",
       "      <td>45.34</td>\n",
       "      <td>1</td>\n",
       "      <td>0</td>\n",
       "      <td>0</td>\n",
       "      <td>0</td>\n",
       "      <td>1</td>\n",
       "      <td>0</td>\n",
       "      <td>1</td>\n",
       "    </tr>\n",
       "    <tr>\n",
       "      <th>4</th>\n",
       "      <td>6</td>\n",
       "      <td>134.83</td>\n",
       "      <td>0</td>\n",
       "      <td>1</td>\n",
       "      <td>0</td>\n",
       "      <td>1</td>\n",
       "      <td>0</td>\n",
       "      <td>1</td>\n",
       "      <td>0</td>\n",
       "    </tr>\n",
       "  </tbody>\n",
       "</table>\n",
       "</div>"
      ],
      "text/plain": [
       "   recency  history  mens  womens  newbie  zip_code_Surburban  zip_code_Urban  \\\n",
       "0       10   142.44     1       0       0                   1               0   \n",
       "1        7   180.65     0       1       1                   1               0   \n",
       "2        9   675.83     1       0       1                   0               0   \n",
       "3        2    45.34     1       0       0                   0               1   \n",
       "4        6   134.83     0       1       0                   1               0   \n",
       "\n",
       "   channel_Phone  channel_Web  \n",
       "0              1            0  \n",
       "1              0            1  \n",
       "2              0            1  \n",
       "3              0            1  \n",
       "4              1            0  "
      ]
     },
     "execution_count": 8,
     "metadata": {},
     "output_type": "execute_result"
    }
   ],
   "source": [
    "# 원핫인코딩\n",
    "dummied_df = pd.get_dummies(mailed_df[['zip_code', 'channel']], drop_first=True) # zip_code, channel 변경, 첫번째 컬럼 제거(다중공선성)\n",
    "feature_vector_df = mailed_df.drop(['history_segment', 'zip_code', 'channel', 'segment', 'visit', 'conversion', 'spend'], axis=1)\n",
    "feature_vector_df = pd.concat([feature_vector_df, dummied_df], axis=1)\n",
    "feature_vector_df.head()"
   ]
  },
  {
   "cell_type": "code",
   "execution_count": 9,
   "metadata": {},
   "outputs": [],
   "source": [
    "# 남성 타겟 메일 받은 고객 중 사이트에 방문한 데이터 분리\n",
    "is_treat_list = list(mailed_df['segment'] == 'Mens E-Mail') # 남성 타겟 메일 boolean\n",
    "is_cv_list = list(mailed_df['visit'] == 1) # 메일 받은 고객 중 방문한 고객 boolean"
   ]
  },
  {
   "cell_type": "markdown",
   "metadata": {},
   "source": [
    "### Training"
   ]
  },
  {
   "cell_type": "code",
   "execution_count": 11,
   "metadata": {},
   "outputs": [],
   "source": [
    "from sklearn.model_selection import train_test_split\n",
    "\n",
    "train_is_cv_list, test_is_cv_list,\\\n",
    "train_is_treat_list, test_is_treat_list,\\\n",
    "train_feature_vector_df, test_feature_vector_df\\\n",
    "     = train_test_split(is_cv_list, is_treat_list, feature_vector_df, test_size=0.2, random_state=42)"
   ]
  },
  {
   "cell_type": "code",
   "execution_count": 12,
   "metadata": {},
   "outputs": [
    {
     "data": {
      "text/plain": [
       "LogisticRegression(C=0.01, max_iter=1000)"
      ]
     },
     "execution_count": 12,
     "metadata": {},
     "output_type": "execute_result"
    }
   ],
   "source": [
    "# 로지스틱 회귀 모델\n",
    "from sklearn.linear_model import LogisticRegression\n",
    "\n",
    "treat_model = LogisticRegression(C=0.01, max_iter=1000)\n",
    "control_model = LogisticRegression(C=0.01, max_iter=1000)\n",
    "\n",
    "train_sample_num = len(train_is_cv_list) # train 데이터 개수\n",
    "\n",
    "# 실험군\n",
    "treat_is_cv_list = [train_is_cv_list[i] for i in range(train_sample_num) if train_is_treat_list[i]==True] # 남성 메일 중 방문 고객\n",
    "treat_feature_vector_list = train_feature_vector_df[train_is_treat_list]\n",
    "\n",
    "# 대조군\n",
    "control_is_cv_list = [train_is_cv_list[i] for i in range(train_sample_num) if train_is_treat_list[i]==False] # 여성 메일 중 방문 고객\n",
    "control_feature_vector_list = train_feature_vector_df[list(map(lambda x: x == False, train_is_treat_list))]\n",
    "\n",
    "treat_model.fit(treat_feature_vector_list, treat_is_cv_list)\n",
    "control_model.fit(control_feature_vector_list, control_is_cv_list)"
   ]
  },
  {
   "cell_type": "markdown",
   "metadata": {},
   "source": [
    "# Evaluate"
   ]
  },
  {
   "cell_type": "code",
   "execution_count": 13,
   "metadata": {},
   "outputs": [],
   "source": [
    "from operator import itemgetter\n",
    "\n",
    "treat_score = treat_model.predict_proba(test_feature_vector_df) # 실험군 예측값\n",
    "control_score = control_model.predict_proba(test_feature_vector_df) # 대조군 예측값\n",
    "score_list = treat_score[:, 1] - control_score[:, 1] # 실험군 - 대조군, 업리프트 모델링 점수 계산\n",
    "\n",
    "result = list(zip(test_is_cv_list, test_is_treat_list, score_list))\n",
    "result.sort(key=itemgetter(2), reverse=True)"
   ]
  },
  {
   "cell_type": "code",
   "execution_count": 14,
   "metadata": {},
   "outputs": [
    {
     "data": {
      "text/plain": [
       "Text(0, 0.5, 'conversion rate')"
      ]
     },
     "execution_count": 14,
     "metadata": {},
     "output_type": "execute_result"
    },
    {
     "data": {
      "image/png": "[encoded data removed]",
      "text/plain": [
       "<Figure size 432x288 with 1 Axes>"
      ]
     },
     "metadata": {
      "needs_background": "light"
     },
     "output_type": "display_data"
    }
   ],
   "source": [
    "import matplotlib.pyplot as plt\n",
    "\n",
    "qdf = pd.DataFrame(columns=('treat_cvr', 'control_cvr'))\n",
    "\n",
    "quantile_data = []\n",
    "for n in range(10):\n",
    "    start = int(n * len(result) / 10) # 10% 단위\n",
    "    end = int((n + 1) * len(result) / 10) - 1\n",
    "    quantiled_result = result[start:end]\n",
    "    # 실험/대조 결과\n",
    "    treat_uu = list(map(lambda item: item[1], quantiled_result)).count(True)\n",
    "    control_uu = list(map(lambda item: item[1], quantiled_result)).count(False)\n",
    "    # 전환 건수\n",
    "    treat_cv = [item[0] for item in quantiled_result if item[1] == True].count(True)\n",
    "    control_cv = [item[0] for item in quantiled_result if item[1] == False].count(True)\n",
    "\n",
    "    # 전환율 계산\n",
    "    treat_cvr = treat_cv / treat_uu\n",
    "    control_cvr = control_cv / control_uu\n",
    "\n",
    "    quantile_data.append([treat_uu, control_uu, treat_cv, control_cv, treat_cvr, control_cvr])\n",
    "\n",
    "    label = \"{}% ~ {}%\".format(n*10, (n+1)*10)\n",
    "    qdf.loc[label] = [treat_cvr, control_cvr]\n",
    "\n",
    "qdf.plot(kind='bar')\n",
    "plt.xlabel('percentile')\n",
    "plt.ylabel('conversion rate')"
   ]
  },
  {
   "cell_type": "markdown",
   "metadata": {},
   "source": [
    "- 60%까지는 남성 타겟 메일이 반응이 더 좋음\n",
    "- 이후로는 여성이 우세"
   ]
  },
  {
   "cell_type": "markdown",
   "metadata": {},
   "source": [
    "### Evalutate using AUC"
   ]
  },
  {
   "cell_type": "code",
   "execution_count": 16,
   "metadata": {},
   "outputs": [
    {
     "data": {
      "image/png": "[encoded data removed]",
      "text/plain": [
       "<Figure size 720x576 with 4 Axes>"
      ]
     },
     "metadata": {
      "needs_background": "light"
     },
     "output_type": "display_data"
    }
   ],
   "source": [
    "treat_uu = 0\n",
    "control_uu = 0\n",
    "treat_cv = 0\n",
    "control_cv = 0\n",
    "treat_cvr = 0.0\n",
    "control_cvr = 0.0\n",
    "list = 0.0\n",
    "stat_data = []\n",
    "\n",
    "for is_cv, is_treat, score in result:\n",
    "    if is_treat:\n",
    "        treat_uu += 1\n",
    "        if is_cv:\n",
    "            treat_cv += 1\n",
    "        treat_cvr = treat_cv / treat_uu\n",
    "\n",
    "    else:\n",
    "        control_uu += 1\n",
    "        if is_cv:\n",
    "            control_cv += 1\n",
    "        control_cvr = control_cv / control_uu\n",
    "    lift = (treat_cvr - control_cvr) * treat_uu\n",
    "    stat_data.append([is_cv, is_treat, score, treat_uu, control_uu, treat_cv, control_cv, treat_cvr, control_cvr, lift])\n",
    "\n",
    "df = pd.DataFrame(stat_data)\n",
    "df.columns = ['is_cv', 'is_treat', 'score', 'treat_uu', 'control_uu', 'treat_cv', 'control_cv', 'treat_cvr', 'control_cvr', 'lift']\n",
    "\n",
    "df['base_line'] = df.index * df['lift'][len(df.index) - 1] / len(df.index)\n",
    "f, ([ax0, ax1], [ax2, ax3]) = plt.subplots(2, 2, sharex=True, figsize=(10, 8))\n",
    "\n",
    "df.plot(y=['treat_cv', 'control_cv'], ax=ax0)\n",
    "ax0.set_xlabel('uplift score rank')\n",
    "ax0.set_ylabel('conversion count')\n",
    "df.plot(y=['treat_cvr', 'control_cvr'], ax=ax1, ylim=[0, 0.3])\n",
    "ax1.set_xlabel('uplift score rank')\n",
    "ax1.set_ylabel('conversion rate')\n",
    "df.plot(y=['lift', 'base_line'], ax=ax2)\n",
    "ax2.set_xlabel('uplift score rank')\n",
    "ax2.set_ylabel('lift count')\n",
    "ax3.axis('off')\n",
    "plt.tight_layout()"
   ]
  },
  {
   "cell_type": "code",
   "execution_count": 17,
   "metadata": {},
   "outputs": [
    {
     "data": {
      "image/png": "[encoded data removed]",
      "text/plain": [
       "<Figure size 720x576 with 4 Axes>"
      ]
     },
     "metadata": {
      "needs_background": "light"
     },
     "output_type": "display_data"
    }
   ],
   "source": [
    "# 정규화 그림\n",
    "f, ([ax0, ax1], [ax2, ax3]) = plt.subplots(2, 2, sharex=True, figsize=(10, 8))\n",
    "df.plot(y=['treat_cv', 'control_cv'], ax=ax0, x='score', title='conversion count')\n",
    "df.plot(y=['treat_cvr', 'control_cvr'], ylim=[0, 0.3], x='score', title='conversion rate', ax=ax1)\n",
    "df.plot(y=['lift', 'base_line'], x='score', title='lift', ax=ax2)\n",
    "ax3.axis('off')\n",
    "plt.tight_layout()"
   ]
  },
  {
   "cell_type": "code",
   "execution_count": null,
   "metadata": {},
   "outputs": [],
   "source": []
  }
 ],
 "metadata": {
  "interpreter": {
   "hash": "b3ba2566441a7c06988d0923437866b63cedc61552a5af99d1f4fb67d367b25f"
  },
  "kernelspec": {
   "display_name": "Python 3.7.10 64-bit ('base': conda)",
   "name": "python3"
  },
  "language_info": {
   "codemirror_mode": {
    "name": "ipython",
    "version": 3
   },
   "file_extension": ".py",
   "mimetype": "text/x-python",
   "name": "python",
   "nbconvert_exporter": "python",
   "pygments_lexer": "ipython3",
   "version": "3.7.10"
  },
  "orig_nbformat": 4
 },
 "nbformat": 4,
 "nbformat_minor": 2
}
